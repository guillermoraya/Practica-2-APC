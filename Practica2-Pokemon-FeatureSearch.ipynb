{
 "cells": [
  {
   "cell_type": "code",
   "execution_count": null,
   "id": "a13e7819",
   "metadata": {},
   "outputs": [],
   "source": [
    "import pandas as pd\n",
    "import numpy as np\n",
    "\n",
    "pokemons = pd.read_csv(\"pokemon.csv\")\n",
    "\n",
    "\n",
    "pokemons.at[773, 'capture_rate'] = '30'\n",
    "pokemons.at[773, 'attack'] = np.int64(60)\n",
    "pokemons.at[773, 'defense'] = np.int64(100)\n",
    "pokemons.at[773, 'sp_attack'] = np.int64(60)\n",
    "pokemons.at[773, 'sp_defense'] = np.int64(100)\n",
    "pokemons.at[773, 'speed'] = np.int64(60)\n",
    "pokemons.at[773, 'base_total'] = np.int64(440)\n",
    "\n",
    "pokemons.at[719, 'classfication'] = 'Mischief Pokémon'\n",
    "pokemons.at[719, 'attack'] = np.int64(110)\n",
    "pokemons.at[719, 'defense'] = np.int64(60)\n",
    "pokemons.at[719, 'sp_attack'] = np.int64(150)\n",
    "pokemons.at[719, 'sp_defense'] = np.int64(130)\n",
    "pokemons.at[719, 'speed'] = np.int64(70)\n",
    "pokemons.at[719, 'base_total'] = np.int64(600)\n",
    "pokemons.at[719, 'height_m'] = np.int64(0.5)\n",
    "pokemons.at[719, 'weight_kg'] = np.int64(9)\n",
    "\n",
    "\n",
    "print(pokemons.loc[719])\n",
    "print(sum(pokemons['height_m'].isnull()))\n",
    "print(sum(pokemons['weight_kg'].isnull()))\n",
    "print(pokemons['name'][pokemons['height_m'].isnull()])\n",
    "print(pokemons['name'][pokemons['weight_kg'].isnull()])\n",
    "\n",
    "pokemons['capture_rate'] = pokemons['capture_rate'].astype(np.int64)\n",
    "pokemons['genderless'] = pokemons['percentage_male'].isnull() + 0"
   ]
  },
  {
   "cell_type": "code",
   "execution_count": null,
   "id": "47e73cbb",
   "metadata": {},
   "outputs": [],
   "source": [
    "print(\"\\n\".join([f'{i}: {v}' for i, v in enumerate(pokemons.columns.values)]))"
   ]
  },
  {
   "cell_type": "code",
   "execution_count": null,
   "id": "4e37b140",
   "metadata": {},
   "outputs": [],
   "source": [
    "print(\"\\n\".join([f'{i}: {type(v)}' for i, v in enumerate(pokemons.loc[0])]))"
   ]
  },
  {
   "cell_type": "code",
   "execution_count": null,
   "id": "b3ae794f",
   "metadata": {},
   "outputs": [],
   "source": [
    "import seaborn as sns\n",
    "import matplotlib.pyplot as plt\n",
    "\n",
    "\n",
    "plt.subplots(figsize=(20, 18))\n",
    "#sns.histplot(pokemons, x='type1', y='type2')\n",
    "#sns.histplot(pokemons, x='type1')\n",
    "sns.histplot(pokemons, x='capture_rate', binwidth=1)"
   ]
  },
  {
   "cell_type": "code",
   "execution_count": null,
   "id": "3be8a5c1",
   "metadata": {
    "scrolled": true
   },
   "outputs": [],
   "source": [
    "plt.subplots(figsize=(60, 18))\n",
    "plt.xticks(rotation=90)\n",
    "\n",
    "ab = []\n",
    "il = []\n",
    "for abilities, legendary in zip(pokemons['abilities'], pokemons['is_legendary']):\n",
    "    abilities = eval(abilities)\n",
    "    ab += abilities\n",
    "    il += [legendary for _ in range(len(abilities))]\n",
    "    \n",
    "sns.histplot(x=ab, hue=il, multiple=\"stack\")"
   ]
  },
  {
   "cell_type": "code",
   "execution_count": null,
   "id": "b1d960ef",
   "metadata": {},
   "outputs": [],
   "source": [
    "sns.pairplot(pokemons, vars=['base_total', 'capture_rate', 'is_legendary'])"
   ]
  },
  {
   "cell_type": "code",
   "execution_count": null,
   "id": "b58b735b",
   "metadata": {
    "scrolled": false
   },
   "outputs": [],
   "source": [
    "pokemons['monotype'] = pokemons['type2'].isnull() + 0\n",
    "plt.subplots(figsize=(10, 10))\n",
    "sns.histplot(pokemons, x=\"genderless\", hue=\"is_legendary\", multiple=\"stack\")\n",
    "plt.subplots(figsize=(10, 10))\n",
    "sns.histplot(pokemons, x=\"monotype\", hue=\"is_legendary\", multiple=\"stack\")\n",
    "plt.subplots(figsize=(10, 10))\n",
    "sns.histplot(pokemons, x=\"base_egg_steps\", hue=\"is_legendary\", multiple=\"stack\")\n",
    "plt.subplots(figsize=(10, 10))\n",
    "sns.histplot(pokemons, x=\"base_total\", hue=\"is_legendary\", multiple=\"layer\", element='poly')\n",
    "plt.subplots(figsize=(10, 10))\n",
    "sns.histplot(pokemons, x=\"capture_rate\", hue=\"is_legendary\", multiple=\"layer\", element='poly')\n",
    "plt.subplots(figsize=(10, 10))\n",
    "sns.histplot(pokemons, x=\"base_happiness\", hue=\"is_legendary\", multiple=\"layer\", element='poly')\n",
    "plt.subplots(figsize=(10, 10))\n",
    "pt = list(pokemons['type1']) + list(pokemons['type2'])\n",
    "il = list(pokemons['is_legendary']) + list(pokemons['is_legendary'])\n",
    "sns.histplot(x=pt, hue=il, multiple=\"layer\")"
   ]
  },
  {
   "cell_type": "code",
   "execution_count": null,
   "id": "a4344d67",
   "metadata": {},
   "outputs": [],
   "source": [
    "print(pokemons['name'][(pokemons['is_legendary'] == 1) * (pokemons['base_egg_steps'] < 20000) == 1])\n",
    "print(pokemons['base_egg_steps'][(pokemons['is_legendary'] == 1) * (pokemons['base_egg_steps'] < 20000) == 1])"
   ]
  },
  {
   "cell_type": "code",
   "execution_count": null,
   "id": "ebc905eb",
   "metadata": {},
   "outputs": [],
   "source": [
    "print(pokemons['name'][(pokemons['is_legendary'] == 1) * (pokemons['genderless'] == 0) == 1])"
   ]
  },
  {
   "cell_type": "code",
   "execution_count": null,
   "id": "efd41f94",
   "metadata": {},
   "outputs": [],
   "source": [
    "print(pokemons['name'][(pokemons['is_legendary'] == 1) * (pokemons['base_happiness'] == 0) == 1])"
   ]
  },
  {
   "cell_type": "code",
   "execution_count": null,
   "id": "6e3b46e2",
   "metadata": {},
   "outputs": [],
   "source": [
    "print(pokemons['name'][(pokemons['experience_growth'] > 1.6*1e6) == 1])"
   ]
  },
  {
   "cell_type": "code",
   "execution_count": null,
   "id": "6ca4f834",
   "metadata": {},
   "outputs": [],
   "source": [
    "from sklearn.preprocessing import MultiLabelBinarizer\n",
    "\n",
    "enc = MultiLabelBinarizer()\n",
    "enc.fit(np.array(pokemons['type1']).reshape(-1, 1))\n",
    "enc.transform([[t1] if mono else [t1, t2] for t1, t2, mono in zip(pokemons['type1'], pokemons['type2'], pokemons['monotype'])]).shape"
   ]
  },
  {
   "cell_type": "code",
   "execution_count": null,
   "id": "ceb769a9",
   "metadata": {},
   "outputs": [],
   "source": [
    "from sklearn.preprocessing import MultiLabelBinarizer\n",
    "\n",
    "enc = MultiLabelBinarizer()\n",
    "enc.fit(np.array(ab).reshape(-1, 1))\n",
    "enc.transform([eval(ability) for ability in pokemons['abilities']]).shape"
   ]
  }
 ],
 "metadata": {
  "kernelspec": {
   "display_name": "Python 3 (ipykernel)",
   "language": "python",
   "name": "python3"
  },
  "language_info": {
   "codemirror_mode": {
    "name": "ipython",
    "version": 3
   },
   "file_extension": ".py",
   "mimetype": "text/x-python",
   "name": "python",
   "nbconvert_exporter": "python",
   "pygments_lexer": "ipython3",
   "version": "3.7.10"
  }
 },
 "nbformat": 4,
 "nbformat_minor": 5
}
