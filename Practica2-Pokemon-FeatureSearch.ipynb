{
 "cells": [
  {
   "cell_type": "code",
   "execution_count": null,
   "id": "a13e7819",
   "metadata": {},
   "outputs": [],
   "source": [
    "import pandas as pd\n",
    "import numpy as np\n",
    "\n",
    "pokemons = pd.read_csv(\"pokemon.csv\")\n",
    "\n",
    "print(type(pokemons['capture_rate'][773]))\n",
    "pokemons['capture_rate'][773] = '30'\n",
    "pokemons['attack'][773] = np.int64(60)\n",
    "pokemons['defense'][773]= np.int64(100)\n",
    "pokemons['sp_attack'][773] = np.int64(60)\n",
    "pokemons['sp_defense'][773] = np.int64(100)\n",
    "pokemons['speed'][773] = np.int64(60)\n",
    "pokemons['base_total'][773] = np.int64(440)\n",
    "\n",
    "pokemons['capture_rate'] = pokemons['capture_rate'].astype(np.int64)"
   ]
  },
  {
   "cell_type": "code",
   "execution_count": null,
   "id": "47e73cbb",
   "metadata": {},
   "outputs": [],
   "source": [
    "pokemons.columns.values"
   ]
  },
  {
   "cell_type": "code",
   "execution_count": null,
   "id": "b3ae794f",
   "metadata": {},
   "outputs": [],
   "source": [
    "import seaborn as sns\n",
    "import matplotlib.pyplot as plt\n",
    "\n",
    "\n",
    "plt.subplots(figsize=(20, 18))\n",
    "#sns.histplot(pokemons, x='type1', y='type2')\n",
    "#sns.histplot(pokemons, x='type1')\n",
    "cr = list(set(pokemons['capture_rate'].astype(int)))\n",
    "cr.sort()\n",
    "sns.histplot(pokemons, x='capture_rate', bins=cr, binwidth=1)"
   ]
  },
  {
   "cell_type": "code",
   "execution_count": null,
   "id": "b1d960ef",
   "metadata": {},
   "outputs": [],
   "source": [
    "sns.pairplot(pokemons, vars=['base_total', 'capture_rate', 'is_legendary'])"
   ]
  },
  {
   "cell_type": "code",
   "execution_count": null,
   "id": "b58b735b",
   "metadata": {
    "scrolled": false
   },
   "outputs": [],
   "source": [
    "pokemons['genderless'] = pokemons['percentage_male'].isnull() + 0\n",
    "plt.subplots(figsize=(10, 10))\n",
    "sns.histplot(pokemons, x=\"genderless\", hue=\"is_legendary\", multiple=\"stack\")\n",
    "plt.subplots(figsize=(10, 10))\n",
    "sns.histplot(pokemons, x=\"base_egg_steps\", hue=\"is_legendary\", multiple=\"stack\")\n",
    "plt.subplots(figsize=(10, 10))\n",
    "sns.histplot(pokemons, x=\"base_total\", hue=\"is_legendary\", multiple=\"layer\", element='poly')\n",
    "plt.subplots(figsize=(10, 10))\n",
    "sns.histplot(pokemons, x=\"capture_rate\", hue=\"is_legendary\", multiple=\"layer\", element='poly')\n",
    "plt.subplots(figsize=(10, 10))\n",
    "pt = list(pokemons['type1']) + list(pokemons['type2'])\n",
    "il = list(pokemons['is_legendary']) + list(pokemons['is_legendary'])\n",
    "sns.histplot(x=pt, hue=il, multiple=\"layer\")"
   ]
  },
  {
   "cell_type": "code",
   "execution_count": null,
   "id": "a4344d67",
   "metadata": {},
   "outputs": [],
   "source": [
    "print(pokemons['name'][(pokemons['is_legendary'] == 1) * (pokemons['base_egg_steps'] < 20000) == 1])\n",
    "print(pokemons['base_egg_steps'][(pokemons['is_legendary'] == 1) * (pokemons['base_egg_steps'] < 20000) == 1])"
   ]
  },
  {
   "cell_type": "code",
   "execution_count": null,
   "id": "ebc905eb",
   "metadata": {},
   "outputs": [],
   "source": [
    "print(pokemons['name'][(pokemons['is_legendary'] == 1) * (pokemons['genderless'] == 0) == 1])"
   ]
  }
 ],
 "metadata": {
  "kernelspec": {
   "display_name": "Python 3 (ipykernel)",
   "language": "python",
   "name": "python3"
  },
  "language_info": {
   "codemirror_mode": {
    "name": "ipython",
    "version": 3
   },
   "file_extension": ".py",
   "mimetype": "text/x-python",
   "name": "python",
   "nbconvert_exporter": "python",
   "pygments_lexer": "ipython3",
   "version": "3.7.10"
  }
 },
 "nbformat": 4,
 "nbformat_minor": 5
}
